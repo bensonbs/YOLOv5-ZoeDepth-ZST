{
 "cells": [
  {
   "cell_type": "code",
   "execution_count": 52,
   "metadata": {},
   "outputs": [],
   "source": [
    "import requests\n",
    "import json\n",
    "import numpy as np\n",
    "import base64,cv2\n",
    "from PIL import Image, ImageOps"
   ]
  },
  {
   "cell_type": "code",
   "execution_count": 53,
   "metadata": {},
   "outputs": [
    {
     "data": {
      "text/plain": [
       "{'LK-ENPD_72.pt': 'available', 'TC3-PPE_Detector_v3.pt': 'available'}"
      ]
     },
     "execution_count": 53,
     "metadata": {},
     "output_type": "execute_result"
    }
   ],
   "source": [
    "r = requests.post('http://127.0.0.1:5001/')\n",
    "dic = json.loads(r.text.replace(\"'\", \"\\\"\"))\n",
    "dic"
   ]
  },
  {
   "cell_type": "code",
   "execution_count": 38,
   "metadata": {},
   "outputs": [
    {
     "data": {
      "text/plain": [
       "['LK-ENPD_72.pt', 'TC3-PPE_Detector_v3.pt']"
      ]
     },
     "execution_count": 38,
     "metadata": {},
     "output_type": "execute_result"
    }
   ],
   "source": [
    "model_names = list(dic.keys())\n",
    "model_names"
   ]
  },
  {
   "cell_type": "code",
   "execution_count": 36,
   "metadata": {},
   "outputs": [],
   "source": [
    "file = 'Demo/3.png'\n",
    "\n",
    "with open(file, \"rb\") as img_file:\n",
    "    b64_string = base64.b64encode(img_file.read())\n",
    "\n",
    "img_base64 = str(b64_string)[2:-1]"
   ]
  },
  {
   "cell_type": "code",
   "execution_count": 46,
   "metadata": {},
   "outputs": [
    {
     "data": {
      "text/plain": [
       "{'0': {'xmin': '630.8596801757812',\n",
       "  'ymin': '210.9367218017578',\n",
       "  'xmax': '944.8758544921875',\n",
       "  'ymax': '493.6624755859375',\n",
       "  'confidence': '0.988096296787262',\n",
       "  'class': '3',\n",
       "  'name': 'truck',\n",
       "  'deep': '158'},\n",
       " '1': {'xmin': '1035.7344970703125',\n",
       "  'ymin': '163.79583740234375',\n",
       "  'xmax': '1399.3427734375',\n",
       "  'ymax': '491.3697509765625',\n",
       "  'confidence': '0.987476110458374',\n",
       "  'class': '3',\n",
       "  'name': 'truck',\n",
       "  'deep': '174'},\n",
       " '2': {'xmin': '1729.143798828125',\n",
       "  'ymin': '339.96527099609375',\n",
       "  'xmax': '1810.21337890625',\n",
       "  'ymax': '443.98382568359375',\n",
       "  'confidence': '0.9852864742279053',\n",
       "  'class': '3',\n",
       "  'name': 'truck',\n",
       "  'deep': '155'},\n",
       " '3': {'xmin': '1456.93017578125',\n",
       "  'ymin': '295.32708740234375',\n",
       "  'xmax': '1642.978759765625',\n",
       "  'ymax': '438.6451416015625',\n",
       "  'confidence': '0.9789209365844727',\n",
       "  'class': '3',\n",
       "  'name': 'truck',\n",
       "  'deep': '179'},\n",
       " '4': {'xmin': '789.694091796875',\n",
       "  'ymin': '497.2002868652344',\n",
       "  'xmax': '829.3131103515625',\n",
       "  'ymax': '575.8861083984375',\n",
       "  'confidence': '0.9732335209846497',\n",
       "  'class': '2',\n",
       "  'name': 'cone',\n",
       "  'deep': '119'},\n",
       " '5': {'xmin': '1093.8836669921875',\n",
       "  'ymin': '424.8340759277344',\n",
       "  'xmax': '1182.5374755859375',\n",
       "  'ymax': '711.7314453125',\n",
       "  'confidence': '0.9660951495170593',\n",
       "  'class': '1',\n",
       "  'name': 'illegal',\n",
       "  'deep': '83'},\n",
       " '6': {'xmin': '610.1983642578125',\n",
       "  'ymin': '496.735107421875',\n",
       "  'xmax': '640.4686279296875',\n",
       "  'ymax': '573.8758544921875',\n",
       "  'confidence': '0.9581279754638672',\n",
       "  'class': '2',\n",
       "  'name': 'cone',\n",
       "  'deep': '125'},\n",
       " '7': {'xmin': '894.8618774414062',\n",
       "  'ymin': '490.31805419921875',\n",
       "  'xmax': '950.7222290039062',\n",
       "  'ymax': '526.38330078125',\n",
       "  'confidence': '0.9572824239730835',\n",
       "  'class': '4',\n",
       "  'name': 'filling',\n",
       "  'deep': '124'},\n",
       " '8': {'xmin': '1414.570556640625',\n",
       "  'ymin': '447.8948974609375',\n",
       "  'xmax': '1449.230224609375',\n",
       "  'ymax': '501.500732421875',\n",
       "  'confidence': '0.9550262689590454',\n",
       "  'class': '2',\n",
       "  'name': 'cone',\n",
       "  'deep': '136'},\n",
       " '9': {'xmin': '1527.9139404296875',\n",
       "  'ymin': '427.3457336425781',\n",
       "  'xmax': '1551.9173583984375',\n",
       "  'ymax': '496.80267333984375',\n",
       "  'confidence': '0.942020058631897',\n",
       "  'class': '2',\n",
       "  'name': 'cone',\n",
       "  'deep': '145'},\n",
       " '10': {'xmin': '1472.3592529296875',\n",
       "  'ymin': '444.6871032714844',\n",
       "  'xmax': '1500.8824462890625',\n",
       "  'ymax': '497.9044189453125',\n",
       "  'confidence': '0.9186092615127563',\n",
       "  'class': '2',\n",
       "  'name': 'cone',\n",
       "  'deep': '138'},\n",
       " '11': {'xmin': '985.071533203125',\n",
       "  'ymin': '402.7345275878906',\n",
       "  'xmax': '1017.0287475585938',\n",
       "  'ymax': '431.7995910644531',\n",
       "  'confidence': '0.9074798226356506',\n",
       "  'class': '0',\n",
       "  'name': 'safety',\n",
       "  'deep': '161'},\n",
       " '12': {'xmin': '1120.5662841796875',\n",
       "  'ymin': '428.0682373046875',\n",
       "  'xmax': '1158.7708740234375',\n",
       "  'ymax': '455.6251220703125',\n",
       "  'confidence': '0.9026917219161987',\n",
       "  'class': '0',\n",
       "  'name': 'safety',\n",
       "  'deep': '124'},\n",
       " '13': {'xmin': '946.7684326171875',\n",
       "  'ymin': '492.0712890625',\n",
       "  'xmax': '975.4418334960938',\n",
       "  'ymax': '557.7508544921875',\n",
       "  'confidence': '0.882478654384613',\n",
       "  'class': '2',\n",
       "  'name': 'cone',\n",
       "  'deep': '111'},\n",
       " '14': {'xmin': '957.0213623046875',\n",
       "  'ymin': '401.81414794921875',\n",
       "  'xmax': '1050.1231689453125',\n",
       "  'ymax': '670.65380859375',\n",
       "  'confidence': '0.8700376749038696',\n",
       "  'class': '0',\n",
       "  'name': 'safety',\n",
       "  'deep': '96'}}"
      ]
     },
     "execution_count": 46,
     "metadata": {},
     "output_type": "execute_result"
    }
   ],
   "source": [
    "r = requests.post('http://127.0.0.1:5001/upload', \n",
    "data = {\n",
    "    'base64_str':f'{img_base64}',\n",
    "    'Model_name':'TC3-PPE_Detector_v3.pt',\n",
    "    'Deep_model':'True'\n",
    "})\n",
    "\n",
    "dic = json.loads(r.text.replace(\"'\", \"\\\"\")[1:-1])\n",
    "dic"
   ]
  },
  {
   "cell_type": "code",
   "execution_count": null,
   "metadata": {},
   "outputs": [],
   "source": []
  },
  {
   "cell_type": "code",
   "execution_count": null,
   "metadata": {},
   "outputs": [],
   "source": []
  }
 ],
 "metadata": {
  "kernelspec": {
   "display_name": "zolo",
   "language": "python",
   "name": "python3"
  },
  "language_info": {
   "codemirror_mode": {
    "name": "ipython",
    "version": 3
   },
   "file_extension": ".py",
   "mimetype": "text/x-python",
   "name": "python",
   "nbconvert_exporter": "python",
   "pygments_lexer": "ipython3",
   "version": "3.9.16"
  },
  "orig_nbformat": 4
 },
 "nbformat": 4,
 "nbformat_minor": 2
}
